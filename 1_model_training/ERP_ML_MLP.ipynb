{
 "cells": [
  {
   "cell_type": "code",
   "execution_count": 11,
   "id": "9d01dd4e",
   "metadata": {},
   "outputs": [],
   "source": [
    "# Define input and output data\n",
    "#!pip install torch torchvision torchaudio\n",
    "#!pip uninstall matplotlib -y\n",
    "#import matplotlib\n",
    "#!pip install openpyxl"
   ]
  },
  {
   "cell_type": "code",
   "execution_count": 1,
   "id": "8e1c3902",
   "metadata": {},
   "outputs": [],
   "source": [
    "import torch\n",
    "torch.manual_seed(0)  # For reproducibility\n",
    "#!conda --version\n",
    "#!pip install flaml[automl]\n",
    "from matplotlib import pyplot as plt\n",
    "import seaborn as sns\n",
    "import numpy as np\n",
    "import pandas as pd\n",
    "import sklearn\n",
    "from sklearn.ensemble import RandomForestRegressor as RF\n",
    "import pickle\n",
    "from sklearn.metrics import mean_squared_error, r2_score, mean_absolute_error\n",
    "from sklearn.preprocessing import StandardScaler\n",
    "from torch.utils.data import TensorDataset, DataLoader\n",
    "import xarray as xr"
   ]
  },
  {
   "cell_type": "markdown",
   "id": "b8e7ec94",
   "metadata": {},
   "source": [
    "### 数据读取和预处理"
   ]
  },
  {
   "cell_type": "code",
   "execution_count": 2,
   "id": "8d5001c2",
   "metadata": {},
   "outputs": [
    {
     "name": "stderr",
     "output_type": "stream",
     "text": [
      "C:\\Users\\Lenovo\\AppData\\Local\\Temp\\ipykernel_4420\\1137076486.py:6: UserWarning: Could not infer format, so each element will be parsed individually, falling back to `dateutil`. To ensure parsing is consistent and as-expected, please specify a format.\n",
      "  df1 = pd.read_csv(data_path1, index_col=0, parse_dates=True)\n"
     ]
    }
   ],
   "source": [
    "# The data catalogue is stored as a CSV file. Here we read it with pandas.\n",
    "data_path1 = 'D:/A_sem2/ERP/Simulation/lhs_exps.csv' # Change this to the path of the data file on your system\n",
    "data_path2 = 'D:/A_sem2/ERP/Code/TSA_max_min_mean.xlsx' # Change this to the path of the data file on your system\n",
    "\n",
    "# Load the data\n",
    "df1 = pd.read_csv(data_path1, index_col=0, parse_dates=True)\n",
    "df1 = df1.drop(columns=['ALB_ROOF_DIF', 'ALB_IMPROAD_DIF', 'ALB_PERROAD_DIF', 'ALB_WALL_DIF'])\n",
    "# display(df1)\n",
    "df2 = pd.read_excel(data_path2, parse_dates=True)\n",
    "\n",
    "# 1. 加载数据\n",
    "df_input = df1.values  # 输入特征CSV\n",
    "df_output = df2.iloc[:, 0].values  # 输出特征Excel，只有1列\n",
    "# print(df_input)\n",
    "# print(df_output)\n",
    "\n",
    "# 2. 特征标准化\n",
    "scaler_X = StandardScaler()\n",
    "X_scaled = scaler_X.fit_transform(df_input)\n",
    "scaler_y = StandardScaler()\n",
    "df_output = df_output.reshape(-1,1)\n",
    "y_scaled = scaler_y.fit_transform(df_output)\n",
    "\n",
    "# 3. 转torch张量\n",
    "X_tensor = torch.tensor(X_scaled, dtype=torch.float32)\n",
    "y_tensor = torch.tensor(y_scaled, dtype=torch.float32)\n",
    "\n",
    "# 4. 分train/test   (可以进一步用sklearn的train_test_split)\n",
    "train_size = int(0.8 * len(X_tensor))\n",
    "X_train, X_test = X_tensor[:train_size], X_tensor[train_size:]\n",
    "y_train, y_test = y_tensor[:train_size], y_tensor[train_size:]\n",
    "\n",
    "train_dataset = TensorDataset(X_train, y_train)\n",
    "test_dataset = TensorDataset(X_test, y_test)\n",
    "\n",
    "# 5. DataLoader\n",
    "train_loader = DataLoader(train_dataset, batch_size=256, shuffle=True)\n",
    "test_loader = DataLoader(test_dataset, batch_size=256, shuffle=False)"
   ]
  },
  {
   "cell_type": "markdown",
   "id": "7d8f10ea",
   "metadata": {},
   "source": [
    "### 定义MLP模型\n",
    "nn.Sequential按顺序组合以下层：\n",
    "\n",
    "nn.Linear(input_dim, 64)：全连接层，将输入维度映射到64个神经元。\n",
    "\n",
    "nn.ReLU()：激活函数，增加非线性能力。\n",
    "\n",
    "nn.Linear(64, 32)：第二层全连接，64维映射到32维。\n",
    "\n",
    "nn.ReLU()：再一次引入ReLU非线性。\n",
    "\n",
    "nn.Linear(32, 1)：输出层，32维映射到1维，即输出一个标量结果，适合回归。\n",
    "\n",
    "对nn.Linear(input_dim, 64)的解释：\n",
    "输入特征（input_dim）数量和**隐层神经元数量（比如64）**没有硬性线性对应关系。\n",
    "通常隐层神经元要多于输入特征（尤其在特征数量不多时）这样隐层有处理和表达复杂特征的能力。\n",
    "实际项目中，64、128、32等值都是常见的经验数值起点。"
   ]
  },
  {
   "cell_type": "code",
   "execution_count": 3,
   "id": "eed32cd9",
   "metadata": {},
   "outputs": [],
   "source": [
    "# 定义MLP模型\n",
    "import torch.nn as nn\n",
    "\n",
    "class MLPRegressor(nn.Module):# 定义一个MLP模型，继承自nn.Module，PyTorch所有神经网络模块都从这里继承。\n",
    "    def __init__(self, input_dim):# 初始化方法，接收模型输入特征维度input_dim。\n",
    "        super().__init__() # 调用父类初始化，保证nn.Module正常工作。\n",
    "        self.model = nn.Sequential(\n",
    "            nn.Linear(input_dim, 64),\n",
    "            nn.ReLU(),\n",
    "            nn.Linear(64, 32),\n",
    "            nn.ReLU(),\n",
    "            nn.Linear(32, 1)   # 输出为1，单输出回归\n",
    "        )\n",
    "    def forward(self, x): # 定义网络的前向传播，输入x依次通过上述self.model层处理，得到输出。\n",
    "        return self.model(x) # 这一步告诉PyTorch 的计算图怎么从输入到输出计算。\n",
    "\n",
    "input_dim = X_tensor.shape[1] # 特征数，即有多少个input variables\n",
    "model = MLPRegressor(input_dim)"
   ]
  },
  {
   "cell_type": "markdown",
   "id": "a1928886",
   "metadata": {},
   "source": [
    "### 训练模型"
   ]
  },
  {
   "cell_type": "code",
   "execution_count": 4,
   "id": "656e7270",
   "metadata": {},
   "outputs": [
    {
     "name": "stdout",
     "output_type": "stream",
     "text": [
      "Epoch 1/30  Train Loss: 0.1758\n",
      "Epoch 2/30  Train Loss: 0.0383\n",
      "Epoch 3/30  Train Loss: 0.0326\n",
      "Epoch 4/30  Train Loss: 0.0295\n",
      "Epoch 5/30  Train Loss: 0.0274\n",
      "Epoch 6/30  Train Loss: 0.0260\n",
      "Epoch 7/30  Train Loss: 0.0251\n",
      "Epoch 8/30  Train Loss: 0.0245\n",
      "Epoch 9/30  Train Loss: 0.0239\n",
      "Epoch 10/30  Train Loss: 0.0236\n",
      "Epoch 11/30  Train Loss: 0.0234\n",
      "Epoch 12/30  Train Loss: 0.0230\n",
      "Epoch 13/30  Train Loss: 0.0228\n",
      "Epoch 14/30  Train Loss: 0.0227\n",
      "Epoch 15/30  Train Loss: 0.0225\n",
      "Epoch 16/30  Train Loss: 0.0221\n",
      "Epoch 17/30  Train Loss: 0.0221\n",
      "Epoch 18/30  Train Loss: 0.0219\n",
      "Epoch 19/30  Train Loss: 0.0215\n",
      "Epoch 20/30  Train Loss: 0.0213\n",
      "Epoch 21/30  Train Loss: 0.0210\n",
      "Epoch 22/30  Train Loss: 0.0207\n",
      "Epoch 23/30  Train Loss: 0.0205\n",
      "Epoch 24/30  Train Loss: 0.0202\n",
      "Epoch 25/30  Train Loss: 0.0201\n",
      "Epoch 26/30  Train Loss: 0.0198\n",
      "Epoch 27/30  Train Loss: 0.0195\n",
      "Epoch 28/30  Train Loss: 0.0193\n",
      "Epoch 29/30  Train Loss: 0.0191\n",
      "Epoch 30/30  Train Loss: 0.0189\n"
     ]
    }
   ],
   "source": [
    "# 训练模型\n",
    "import torch.optim as optim\n",
    "\n",
    "criterion = nn.MSELoss()\n",
    "optimizer = optim.Adam(model.parameters(), lr=1e-3)\n",
    "\n",
    "num_epochs = 30\n",
    "for epoch in range(num_epochs): # 外层循环遍历所有训练的epoch。\n",
    "    model.train() # 设置模型为训练模式，比如启用dropout和batchnorm训练行为。\n",
    "    train_loss = 0.0 # 遍历训练数据加载器的批次，xb是输入批次张量，yb是目标标签批次。\n",
    "    for xb, yb in train_loader: # 遍历训练数据加载器的批次，xb是输入批次张量，yb是目标标签批次。\n",
    "        optimizer.zero_grad() # 清空之前的梯度，避免梯度累积。\n",
    "        output = model(xb) # 前向传播，计算模型预测输出。\n",
    "        # yb shape: [B, 1] / output: [B, 1]\n",
    "        loss = criterion(output, yb) # 计算当前批次的损失（MSE）。\n",
    "        loss.backward() # 反向传播，计算梯度。\n",
    "        optimizer.step() # 根据梯度更新模型参数。\n",
    "        train_loss += loss.item() * xb.size(0) # 把当前批次的损失乘以批尺寸累加，准备算平均损失\n",
    "    train_loss /= len(train_loader.dataset) # 除以训练集总样本数，得到全训练集的平均损失。\n",
    "    print(f\"Epoch {epoch+1}/{num_epochs}  Train Loss: {train_loss:.4f}\") # "
   ]
  },
  {
   "cell_type": "code",
   "execution_count": 5,
   "id": "9fe17515",
   "metadata": {},
   "outputs": [
    {
     "name": "stdout",
     "output_type": "stream",
     "text": [
      "Test Loss (MSE, 标准化后): 0.0148\n"
     ]
    }
   ],
   "source": [
    "# 验证模型\n",
    "model.eval()\n",
    "with torch.no_grad():\n",
    "    total_loss = 0\n",
    "    for xb, yb in test_loader:\n",
    "        output = model(xb)\n",
    "        loss = criterion(output, yb)\n",
    "        total_loss += loss.item() * xb.size(0)\n",
    "    avg_loss = total_loss / len(test_loader.dataset)\n",
    "    print(f\"Test Loss (MSE, 标准化后): {avg_loss:.4f}\")\n",
    "\n",
    "    # 恢复原始量纲预测（举例）\n",
    "    y_test_pred_scaled = model(X_test).cpu().numpy()\n",
    "    y_test_pred_real = scaler_y.inverse_transform(y_test_pred_scaled)\n",
    "    y_test_real = scaler_y.inverse_transform(y_test.cpu().numpy())\n",
    "    residuals_test = y_test_real - y_test_pred_real\n",
    "\n",
    "    y_train_pred_scaled = model(X_train).cpu().numpy()\n",
    "    y_train_pred_real = scaler_y.inverse_transform(y_train_pred_scaled)\n",
    "    y_train_real = scaler_y.inverse_transform(y_train.cpu().numpy())\n",
    "    residuals_train = y_train_real - y_train_pred_real\n",
    "\n",
    "\n"
   ]
  },
  {
   "cell_type": "code",
   "execution_count": null,
   "id": "fc959061",
   "metadata": {},
   "outputs": [
    {
     "data": {
      "text/plain": [
       "(20000, 1)"
      ]
     },
     "metadata": {},
     "output_type": "display_data"
    },
    {
     "name": "stdout",
     "output_type": "stream",
     "text": [
      "NetCDF 文件保存成功！\n"
     ]
    }
   ],
   "source": [
    "### 将y_test_real写成nc格式文件\n",
    "\n",
    "# display(y_test_real.shape)\n",
    "# ds_test_mlp = xr.Dataset(\n",
    "#     {\n",
    "#         \"y_pred\": ((\"200000\", \"1\"), y_test_real)\n",
    "#     },\n",
    "# )\n",
    "# ds_test_mlp.to_netcdf(\"ERP_ds_test_mlp.nc\")# ERP_y_pred_grid_mlp.nc\n",
    "# print(\"NetCDF 文件保存成功！\")\n",
    "\n"
   ]
  },
  {
   "cell_type": "code",
   "execution_count": 17,
   "id": "e02927d4",
   "metadata": {},
   "outputs": [],
   "source": [
    "# 保存和加载模型\n",
    "torch.save(model.state_dict(), \"ERP_mlp_regressor.pth\")\n",
    "# 加载：model.load_state_dict(torch.load(\"mlp_regressor.pth\"))"
   ]
  },
  {
   "cell_type": "code",
   "execution_count": 18,
   "id": "17fcd661",
   "metadata": {},
   "outputs": [
    {
     "data": {
      "image/png": "[encoded data removed]",
      "text/plain": [
       "<Figure size 1200x600 with 1 Axes>"
      ]
     },
     "metadata": {},
     "output_type": "display_data"
    }
   ],
   "source": [
    "### example plotting\n",
    "\n",
    "plt.figure(figsize=(12, 6))\n",
    "sns.histplot(residuals_train, kde=True, color='blue', label='train')# , binwidth = 0.1\n",
    "sns.histplot(residuals_test, kde=True, color='red', label='test')\n",
    "\n",
    "mean_train = residuals_train.mean()\n",
    "mean_test = residuals_test.mean()\n",
    "\n",
    "plt.axvline(mean_train, color='blue', linestyle='dashed', linewidth=1)\n",
    "plt.axvline(mean_test, color='red', linestyle='dashed', linewidth=1)\n",
    "\n",
    "plt.text(-5, 200, f'Mean residuals: {mean_train.round(2)} [K]', rotation=0, color='blue')\n",
    "plt.text(-5, 100, f'Mean residuals: {mean_test.round(2)} [K]', rotation=0, color='red')\n",
    "\n",
    "plt.ylabel('Frequency')\n",
    "plt.xlabel('Residual [K]')\n",
    "plt.title('Residual distribution')\n",
    "plt.legend()\n",
    "plt.show()"
   ]
  }
 ],
 "metadata": {
  "kernelspec": {
   "display_name": "base",
   "language": "python",
   "name": "python3"
  },
  "language_info": {
   "codemirror_mode": {
    "name": "ipython",
    "version": 3
   },
   "file_extension": ".py",
   "mimetype": "text/x-python",
   "name": "python",
   "nbconvert_exporter": "python",
   "pygments_lexer": "ipython3",
   "version": "3.12.3"
  }
 },
 "nbformat": 4,
 "nbformat_minor": 5
}
